{
 "cells": [
  {
   "cell_type": "code",
   "execution_count": null,
   "id": "70636710-f2d2-48a6-b0e4-1281e20e56d2",
   "metadata": {},
   "outputs": [],
   "source": [
    "Hi"
   ]
  }
 ],
 "metadata": {
  "kernelspec": {
   "display_name": "R",
   "language": "R",
   "name": "ir"
  },
  "language_info": {
   "codemirror_mode": "r",
   "file_extension": ".r",
   "mimetype": "text/x-r-source",
   "name": "R",
   "pygments_lexer": "r",
   "version": "4.3.1"
  }
 },
 "nbformat": 4,
 "nbformat_minor": 5
}
