{
 "cells": [
  {
   "cell_type": "markdown",
   "id": "74ad1539-e86e-4d96-860d-e26ae4f9ef80",
   "metadata": {},
   "source": [
    "# Distance to the nearest MRT station in the Xindian district in Taiwan"
   ]
  },
  {
   "cell_type": "markdown",
   "id": "faa1da7b-e2f2-4c16-8bce-9cbb401f81bf",
   "metadata": {},
   "source": [
    "#### Mikail Durrani, Merwise Hamidi, Raymond Li, Ethan Yang"
   ]
  },
  {
   "cell_type": "markdown",
   "id": "2feb08c1-71b9-4521-ac22-15dd8ba7b0cc",
   "metadata": {},
   "source": [
    "### Introduction"
   ]
  },
  {
   "cell_type": "markdown",
   "id": "4e692b10-24d1-47e9-89c6-6c8f063ec336",
   "metadata": {},
   "source": [
    "In particularly in high-density areas in Taiwan, a considerable population shapes the housing market, exceeding 23 million people. Notably, a substantial portion of the populace relies on public transit, with over 2 million daily bus users and an MRT (Mass Rapid Transit) system serving millions. \n",
    "\n",
    "Source: https://metasub.org/city-profiles/taipei-taiwan/#:~:text=It%20consists%20of%20108%20stations,is%20Taiwan\n",
    "\n",
    "\n",
    "Utilising the UCI Real Estate Valuation dataset, our project delves into the pivotal aspect of MRT proximity in Xindian which is one of the areas in Taiwan with high-demand for MRTs. \n",
    "\n",
    "<br>\n",
    "\n",
    " Thus, we posit the question, **What distance to the nearest MRT station can you expect in the Xindian district, using Transaction date, House age, Latitude, Longitude, and house price of the unit area?**\n",
    "\n",
    "\n",
    " "
   ]
  },
  {
   "cell_type": "markdown",
   "id": "4d1760cc-4cb9-4325-8abf-7254cc63647e",
   "metadata": {},
   "source": [
    "### Preliminary Exploratory Data Analysis"
   ]
  },
  {
   "cell_type": "code",
   "execution_count": 1,
   "id": "b921664c-99bb-401a-9fd7-545663f82cfc",
   "metadata": {
    "vscode": {
     "languageId": "r"
    }
   },
   "outputs": [
    {
     "name": "stderr",
     "output_type": "stream",
     "text": [
      "── \u001b[1mAttaching core tidyverse packages\u001b[22m ──────────────────────── tidyverse 2.0.0 ──\n",
      "\u001b[32m✔\u001b[39m \u001b[34mdplyr    \u001b[39m 1.1.3     \u001b[32m✔\u001b[39m \u001b[34mreadr    \u001b[39m 2.1.4\n",
      "\u001b[32m✔\u001b[39m \u001b[34mforcats  \u001b[39m 1.0.0     \u001b[32m✔\u001b[39m \u001b[34mstringr  \u001b[39m 1.5.0\n",
      "\u001b[32m✔\u001b[39m \u001b[34mggplot2  \u001b[39m 3.4.4     \u001b[32m✔\u001b[39m \u001b[34mtibble   \u001b[39m 3.2.1\n",
      "\u001b[32m✔\u001b[39m \u001b[34mlubridate\u001b[39m 1.9.3     \u001b[32m✔\u001b[39m \u001b[34mtidyr    \u001b[39m 1.3.0\n",
      "\u001b[32m✔\u001b[39m \u001b[34mpurrr    \u001b[39m 1.0.2     \n",
      "── \u001b[1mConflicts\u001b[22m ────────────────────────────────────────── tidyverse_conflicts() ──\n",
      "\u001b[31m✖\u001b[39m \u001b[34mdplyr\u001b[39m::\u001b[32mfilter()\u001b[39m masks \u001b[34mstats\u001b[39m::filter()\n",
      "\u001b[31m✖\u001b[39m \u001b[34mdplyr\u001b[39m::\u001b[32mlag()\u001b[39m    masks \u001b[34mstats\u001b[39m::lag()\n",
      "\u001b[36mℹ\u001b[39m Use the conflicted package (\u001b[3m\u001b[34m<http://conflicted.r-lib.org/>\u001b[39m\u001b[23m) to force all conflicts to become errors\n",
      "── \u001b[1mAttaching packages\u001b[22m ────────────────────────────────────── tidymodels 1.1.1 ──\n",
      "\n",
      "\u001b[32m✔\u001b[39m \u001b[34mbroom       \u001b[39m 1.0.5     \u001b[32m✔\u001b[39m \u001b[34mrsample     \u001b[39m 1.2.0\n",
      "\u001b[32m✔\u001b[39m \u001b[34mdials       \u001b[39m 1.2.0     \u001b[32m✔\u001b[39m \u001b[34mtune        \u001b[39m 1.1.2\n",
      "\u001b[32m✔\u001b[39m \u001b[34minfer       \u001b[39m 1.0.5     \u001b[32m✔\u001b[39m \u001b[34mworkflows   \u001b[39m 1.1.3\n",
      "\u001b[32m✔\u001b[39m \u001b[34mmodeldata   \u001b[39m 1.2.0     \u001b[32m✔\u001b[39m \u001b[34mworkflowsets\u001b[39m 1.0.1\n",
      "\u001b[32m✔\u001b[39m \u001b[34mparsnip     \u001b[39m 1.1.1     \u001b[32m✔\u001b[39m \u001b[34myardstick   \u001b[39m 1.2.0\n",
      "\u001b[32m✔\u001b[39m \u001b[34mrecipes     \u001b[39m 1.0.8     \n",
      "\n",
      "── \u001b[1mConflicts\u001b[22m ───────────────────────────────────────── tidymodels_conflicts() ──\n",
      "\u001b[31m✖\u001b[39m \u001b[34mscales\u001b[39m::\u001b[32mdiscard()\u001b[39m masks \u001b[34mpurrr\u001b[39m::discard()\n",
      "\u001b[31m✖\u001b[39m \u001b[34mdplyr\u001b[39m::\u001b[32mfilter()\u001b[39m   masks \u001b[34mstats\u001b[39m::filter()\n",
      "\u001b[31m✖\u001b[39m \u001b[34mrecipes\u001b[39m::\u001b[32mfixed()\u001b[39m  masks \u001b[34mstringr\u001b[39m::fixed()\n",
      "\u001b[31m✖\u001b[39m \u001b[34mdplyr\u001b[39m::\u001b[32mlag()\u001b[39m      masks \u001b[34mstats\u001b[39m::lag()\n",
      "\u001b[31m✖\u001b[39m \u001b[34myardstick\u001b[39m::\u001b[32mspec()\u001b[39m masks \u001b[34mreadr\u001b[39m::spec()\n",
      "\u001b[31m✖\u001b[39m \u001b[34mrecipes\u001b[39m::\u001b[32mstep()\u001b[39m   masks \u001b[34mstats\u001b[39m::step()\n",
      "\u001b[34m•\u001b[39m Dig deeper into tidy modeling with R at \u001b[32mhttps://www.tmwr.org\u001b[39m\n",
      "\n",
      "Warning message in file(filename, \"r\", encoding = encoding):\n",
      "“cannot open file 'tests.R': No such file or directory”\n"
     ]
    },
    {
     "ename": "ERROR",
     "evalue": "Error in file(filename, \"r\", encoding = encoding): cannot open the connection\n",
     "output_type": "error",
     "traceback": [
      "Error in file(filename, \"r\", encoding = encoding): cannot open the connection\nTraceback:\n",
      "1. source(\"tests.R\")",
      "2. file(filename, \"r\", encoding = encoding)"
     ]
    }
   ],
   "source": [
    "#Importing the Library\n",
    "library(repr)\n",
    "library(tidyverse)\n",
    "library(tidymodels)\n",
    "options(repr.matrix.max.rows = 10)\n",
    "source('tests.R')\n",
    "source(\"cleanup.R\")"
   ]
  },
  {
   "cell_type": "code",
   "execution_count": 4,
   "id": "d853c938-d758-487a-ae87-6c913f5ad223",
   "metadata": {
    "vscode": {
     "languageId": "r"
    }
   },
   "outputs": [],
   "source": [
    "library(readxl)"
   ]
  },
  {
   "cell_type": "code",
   "execution_count": 37,
   "id": "17510033-ff8f-41cb-85e7-a340bd8a922b",
   "metadata": {
    "vscode": {
     "languageId": "r"
    }
   },
   "outputs": [
    {
     "data": {
      "text/html": [
       "<table class=\"dataframe\">\n",
       "<caption>A tibble: 414 × 6</caption>\n",
       "<thead>\n",
       "\t<tr><th scope=col>trans_date</th><th scope=col>age</th><th scope=col>dist_to_mrt</th><th scope=col>latitude</th><th scope=col>longitude</th><th scope=col>house_price_of_unit_area</th></tr>\n",
       "\t<tr><th scope=col>&lt;dbl&gt;</th><th scope=col>&lt;dbl&gt;</th><th scope=col>&lt;dbl&gt;</th><th scope=col>&lt;dbl&gt;</th><th scope=col>&lt;dbl&gt;</th><th scope=col>&lt;dbl&gt;</th></tr>\n",
       "</thead>\n",
       "<tbody>\n",
       "\t<tr><td>2012.917</td><td>32.0</td><td> 84.87882</td><td>24.98298</td><td>121.5402</td><td>37.9</td></tr>\n",
       "\t<tr><td>2012.917</td><td>19.5</td><td>306.59470</td><td>24.98034</td><td>121.5395</td><td>42.2</td></tr>\n",
       "\t<tr><td>2013.583</td><td>13.3</td><td>561.98450</td><td>24.98746</td><td>121.5439</td><td>47.3</td></tr>\n",
       "\t<tr><td>2013.500</td><td>13.3</td><td>561.98450</td><td>24.98746</td><td>121.5439</td><td>54.8</td></tr>\n",
       "\t<tr><td>2012.833</td><td> 5.0</td><td>390.56840</td><td>24.97937</td><td>121.5425</td><td>43.1</td></tr>\n",
       "\t<tr><td>⋮</td><td>⋮</td><td>⋮</td><td>⋮</td><td>⋮</td><td>⋮</td></tr>\n",
       "\t<tr><td>2013.000</td><td>13.7</td><td>4082.01500</td><td>24.94155</td><td>121.5038</td><td>15.4</td></tr>\n",
       "\t<tr><td>2012.667</td><td> 5.6</td><td>  90.45606</td><td>24.97433</td><td>121.5431</td><td>50.0</td></tr>\n",
       "\t<tr><td>2013.250</td><td>18.8</td><td> 390.96960</td><td>24.97923</td><td>121.5399</td><td>40.6</td></tr>\n",
       "\t<tr><td>2013.000</td><td> 8.1</td><td> 104.81010</td><td>24.96674</td><td>121.5407</td><td>52.5</td></tr>\n",
       "\t<tr><td>2013.500</td><td> 6.5</td><td>  90.45606</td><td>24.97433</td><td>121.5431</td><td>63.9</td></tr>\n",
       "</tbody>\n",
       "</table>\n"
      ],
      "text/latex": [
       "A tibble: 414 × 6\n",
       "\\begin{tabular}{llllll}\n",
       " trans\\_date & age & dist\\_to\\_mrt & latitude & longitude & house\\_price\\_of\\_unit\\_area\\\\\n",
       " <dbl> & <dbl> & <dbl> & <dbl> & <dbl> & <dbl>\\\\\n",
       "\\hline\n",
       "\t 2012.917 & 32.0 &  84.87882 & 24.98298 & 121.5402 & 37.9\\\\\n",
       "\t 2012.917 & 19.5 & 306.59470 & 24.98034 & 121.5395 & 42.2\\\\\n",
       "\t 2013.583 & 13.3 & 561.98450 & 24.98746 & 121.5439 & 47.3\\\\\n",
       "\t 2013.500 & 13.3 & 561.98450 & 24.98746 & 121.5439 & 54.8\\\\\n",
       "\t 2012.833 &  5.0 & 390.56840 & 24.97937 & 121.5425 & 43.1\\\\\n",
       "\t ⋮ & ⋮ & ⋮ & ⋮ & ⋮ & ⋮\\\\\n",
       "\t 2013.000 & 13.7 & 4082.01500 & 24.94155 & 121.5038 & 15.4\\\\\n",
       "\t 2012.667 &  5.6 &   90.45606 & 24.97433 & 121.5431 & 50.0\\\\\n",
       "\t 2013.250 & 18.8 &  390.96960 & 24.97923 & 121.5399 & 40.6\\\\\n",
       "\t 2013.000 &  8.1 &  104.81010 & 24.96674 & 121.5407 & 52.5\\\\\n",
       "\t 2013.500 &  6.5 &   90.45606 & 24.97433 & 121.5431 & 63.9\\\\\n",
       "\\end{tabular}\n"
      ],
      "text/markdown": [
       "\n",
       "A tibble: 414 × 6\n",
       "\n",
       "| trans_date &lt;dbl&gt; | age &lt;dbl&gt; | dist_to_mrt &lt;dbl&gt; | latitude &lt;dbl&gt; | longitude &lt;dbl&gt; | house_price_of_unit_area &lt;dbl&gt; |\n",
       "|---|---|---|---|---|---|\n",
       "| 2012.917 | 32.0 |  84.87882 | 24.98298 | 121.5402 | 37.9 |\n",
       "| 2012.917 | 19.5 | 306.59470 | 24.98034 | 121.5395 | 42.2 |\n",
       "| 2013.583 | 13.3 | 561.98450 | 24.98746 | 121.5439 | 47.3 |\n",
       "| 2013.500 | 13.3 | 561.98450 | 24.98746 | 121.5439 | 54.8 |\n",
       "| 2012.833 |  5.0 | 390.56840 | 24.97937 | 121.5425 | 43.1 |\n",
       "| ⋮ | ⋮ | ⋮ | ⋮ | ⋮ | ⋮ |\n",
       "| 2013.000 | 13.7 | 4082.01500 | 24.94155 | 121.5038 | 15.4 |\n",
       "| 2012.667 |  5.6 |   90.45606 | 24.97433 | 121.5431 | 50.0 |\n",
       "| 2013.250 | 18.8 |  390.96960 | 24.97923 | 121.5399 | 40.6 |\n",
       "| 2013.000 |  8.1 |  104.81010 | 24.96674 | 121.5407 | 52.5 |\n",
       "| 2013.500 |  6.5 |   90.45606 | 24.97433 | 121.5431 | 63.9 |\n",
       "\n"
      ],
      "text/plain": [
       "    trans_date age  dist_to_mrt latitude longitude house_price_of_unit_area\n",
       "1   2012.917   32.0  84.87882   24.98298 121.5402  37.9                    \n",
       "2   2012.917   19.5 306.59470   24.98034 121.5395  42.2                    \n",
       "3   2013.583   13.3 561.98450   24.98746 121.5439  47.3                    \n",
       "4   2013.500   13.3 561.98450   24.98746 121.5439  54.8                    \n",
       "5   2012.833    5.0 390.56840   24.97937 121.5425  43.1                    \n",
       "⋮   ⋮          ⋮    ⋮           ⋮        ⋮         ⋮                       \n",
       "410 2013.000   13.7 4082.01500  24.94155 121.5038  15.4                    \n",
       "411 2012.667    5.6   90.45606  24.97433 121.5431  50.0                    \n",
       "412 2013.250   18.8  390.96960  24.97923 121.5399  40.6                    \n",
       "413 2013.000    8.1  104.81010  24.96674 121.5407  52.5                    \n",
       "414 2013.500    6.5   90.45606  24.97433 121.5431  63.9                    "
      ]
     },
     "metadata": {},
     "output_type": "display_data"
    }
   ],
   "source": [
    "#Reading data from excel file and changing col names\n",
    "Sindian_RE <- read_excel(\"Group36Dsci100/Data/Real estate valuation data set.xlsx\")               \n",
    "new_col_names <- c(\"Number\", \"trans_date\", \"age\", \"dist_to_mrt\", \"no_of_convenience_stores\", \"latitude\", \n",
    "                                         \"longitude\", \n",
    "                                         \"house_price_of_unit_area\")\n",
    "colnames(Sindian_RE) <- new_col_names\n",
    "\n",
    "#Selecting the columns we are going to use\n",
    "sindian_re <- Sindian_RE |> select(trans_date, age, dist_to_mrt,latitude, longitude, house_price_of_unit_area)\n",
    "sindian_re"
   ]
  },
  {
   "cell_type": "code",
   "execution_count": null,
   "id": "c627b1d4-f9a1-40ee-bb13-84fc2fe89f44",
   "metadata": {
    "vscode": {
     "languageId": "r"
    }
   },
   "outputs": [],
   "source": [
    "#Splitting data into training and testing data"
   ]
  },
  {
   "cell_type": "code",
   "execution_count": null,
   "id": "e55d8abb-99c9-484d-b10c-19a194483277",
   "metadata": {
    "vscode": {
     "languageId": "r"
    }
   },
   "outputs": [],
   "source": [
    "#Summarize data (eg: find means, show # of missing rows)"
   ]
  },
  {
   "cell_type": "code",
   "execution_count": null,
   "id": "052ea83d-2537-4794-b345-ad98a455b635",
   "metadata": {
    "vscode": {
     "languageId": "r"
    }
   },
   "outputs": [],
   "source": [
    "#Plot the distribution of each predictor variable \n"
   ]
  },
  {
   "cell_type": "markdown",
   "id": "b26c4b00-7eff-4adb-af82-ff6fa4f52f85",
   "metadata": {},
   "source": [
    "### Methods"
   ]
  },
  {
   "cell_type": "markdown",
   "id": "0f507e06-2c40-4d8b-899a-b5b19d86e0ae",
   "metadata": {},
   "source": [
    "Through regression, we are predicting the distance to the nearest MRT a buyer would expect to find, based on a multitude of variables.\n",
    " The variables used in the data set are as follows\n",
    "1. Transaction Date (YYYY. #M/121)\n",
    "1. House age (YYYY)\n",
    "1. Distance to the Nearest MRT Station (Meter)\n",
    "1. Latitude (Degree)\n",
    "1. Longitude (Degree)\n",
    "1. House price of unit area (1000 New Taiwan Dollar/Ping2)\n",
    "<br>\n",
    "\n",
    "All columns are associated with a numeric value. There are 414 rows and no missing values in the data set.\n",
    "To clean the data, we simplified the column names using colnames(), to make analysis less tedious. Then we used initial_split(data, prop = 0.75, strata = distance_to_nearst_mrt_station), which split 75% of our data into a training set, which we named sindian_training, and 25% into a testing data, sindian_test.  We then created a spec engine to train our data using nearest_neighbor and created a recipe using our variables.. We then made a workflow for our data, fitting it to the training data. Afterwards, we tune the grid, collect metrics, and filter for “rmse” to find the ideal K value. We then use our workflow data to predict our data, plot it on a scattergraph, and use a fitted line to predict the distance to the MRT.\n"
   ]
  },
  {
   "cell_type": "markdown",
   "id": "1faf1d5a-5be4-4e4a-9297-89fa2a9ea174",
   "metadata": {},
   "source": [
    "### Expectations, outcomes, and significance"
   ]
  },
  {
   "cell_type": "markdown",
   "id": "98033244-4b21-4e26-9873-02ca800dad79",
   "metadata": {},
   "source": [
    "We expect that the transaction date and the real estate units' longitude and latitude will correlate with the distance to the MRT station. We also think that houses near the MRT stations will cost more. The idea here is that public transportation provides opportunities. By granting an individual that lives close to a station the freedom and flexibility to live how they choose, we belive it would increase housing prices. This is because MRTs are often affordable, helps connect to work or nightlife easily, helps avoid parking hassles, helps avoiding traffic, and etc.\n",
    "<br>\n",
    "\n",
    "The results can help plan future developments. If houses near MRT stations cost more, it could influence property prices and where people choose to live. This could also be used by people looking to purchase properties to look for the best prices for houses based on our data analysis.\n",
    "<br>\n",
    "\n",
    "Next steps involve making models to predict MRT distance using dates, house age, location, and prices. We'll explore how house age connects to MRT distance and see if specific areas have different property values. We'll also check how changes in transportation might affect property values and if MRT accessibility is fair for everyone."
   ]
  },
  {
   "cell_type": "code",
   "execution_count": null,
   "id": "8b30beb2-015d-4da6-b0ec-7f83fcadaa7c",
   "metadata": {
    "vscode": {
     "languageId": "r"
    }
   },
   "outputs": [],
   "source": []
  }
 ],
 "metadata": {
  "kernelspec": {
   "display_name": "R",
   "language": "R",
   "name": "ir"
  },
  "language_info": {
   "codemirror_mode": "r",
   "file_extension": ".r",
   "mimetype": "text/x-r-source",
   "name": "R",
   "pygments_lexer": "r",
   "version": "4.3.1"
  }
 },
 "nbformat": 4,
 "nbformat_minor": 5
}
