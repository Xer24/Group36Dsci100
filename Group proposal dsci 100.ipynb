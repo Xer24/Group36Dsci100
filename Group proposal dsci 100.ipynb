{
 "cells": [
  {
   "cell_type": "markdown",
   "id": "74ad1539-e86e-4d96-860d-e26ae4f9ef80",
   "metadata": {},
   "source": [
    "# Distance to the nearest MRT station in the Sindian district in Taiwan"
   ]
  },
  {
   "cell_type": "markdown",
   "id": "faa1da7b-e2f2-4c16-8bce-9cbb401f81bf",
   "metadata": {},
   "source": [
    "#### Mikail Durrani, Merwise Hamidi, Raymond Li, Ethan Yang"
   ]
  },
  {
   "cell_type": "markdown",
   "id": "2feb08c1-71b9-4521-ac22-15dd8ba7b0cc",
   "metadata": {},
   "source": [
    "### Introduction"
   ]
  },
  {
   "cell_type": "code",
   "execution_count": null,
   "id": "ceb3508c-9a02-4a42-acdc-415ca68f0a07",
   "metadata": {},
   "outputs": [],
   "source": []
  }
 ],
 "metadata": {
  "kernelspec": {
   "display_name": "R",
   "language": "R",
   "name": "ir"
  },
  "language_info": {
   "codemirror_mode": "r",
   "file_extension": ".r",
   "mimetype": "text/x-r-source",
   "name": "R",
   "pygments_lexer": "r",
   "version": "4.3.1"
  }
 },
 "nbformat": 4,
 "nbformat_minor": 5
}
